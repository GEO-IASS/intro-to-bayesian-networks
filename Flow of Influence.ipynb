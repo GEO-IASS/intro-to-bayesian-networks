{
 "cells": [
  {
   "cell_type": "markdown",
   "metadata": {},
   "source": [
    "Exploring the flow of influence random variables in a Bayesian network have on each other\n",
    "----"
   ]
  },
  {
   "cell_type": "code",
   "execution_count": 1,
   "metadata": {
    "collapsed": true
   },
   "outputs": [],
   "source": [
    "from pomegranate import BayesianNetwork, DiscreteDistribution, ConditionalProbabilityTable, State"
   ]
  },
  {
   "cell_type": "code",
   "execution_count": 2,
   "metadata": {
    "collapsed": true
   },
   "outputs": [],
   "source": [
    "# helper function to pretty print observation results\n",
    "def update(network, observations, variables=None):\n",
    "    beliefs = network.forward_backward(observations)\n",
    "    for state, dist in zip(network.states, beliefs):\n",
    "        if variables is None or state.name in variables:\n",
    "            fixed = {}\n",
    "            for k, v in dist.parameters[0].items():\n",
    "                fixed[k] = \"{:.2}\".format(v)\n",
    "            print(\"{:<15}\\t{}\".format(state.name, fixed))"
   ]
  },
  {
   "cell_type": "markdown",
   "metadata": {},
   "source": [
    "Setup the discrete probability distributions based on the Student Bayesian Network model"
   ]
  },
  {
   "cell_type": "code",
   "execution_count": 3,
   "metadata": {
    "collapsed": true
   },
   "outputs": [],
   "source": [
    "difficulty = DiscreteDistribution({'hard': 0.6, 'easy': 0.4})\n",
    "intelligence = DiscreteDistribution({'high': 0.7, 'low': 0.3})\n",
    "grade = ConditionalProbabilityTable([\n",
    "        ['hard', 'high', 'A', 0.3],\n",
    "        ['hard', 'high', 'B', 0.4],\n",
    "        ['hard', 'high', 'C', 0.3],\n",
    "        ['hard', 'low', 'A', 0.05],\n",
    "        ['hard', 'low', 'B', 0.25],\n",
    "        ['hard', 'low', 'C', 0.7],\n",
    "        ['easy', 'high', 'A', 0.9],\n",
    "        ['easy', 'high', 'B', 0.08],\n",
    "        ['easy', 'high', 'C', 0.02],\n",
    "        ['easy', 'low', 'A', 0.5],\n",
    "        ['easy', 'low', 'B', 0.3],\n",
    "        ['easy', 'low', 'C', 0.2]\n",
    "    ], [difficulty, intelligence])\n",
    "sat = ConditionalProbabilityTable([\n",
    "        ['high', 'good', 0.95],\n",
    "        ['high', 'bad', 0.05],\n",
    "        ['low', 'good', 0.2],\n",
    "        ['low', 'bad', 0.8],\n",
    "    ], [intelligence])\n",
    "letter = ConditionalProbabilityTable([\n",
    "        ['A', 'unfavorable', 0.1],\n",
    "        ['A', 'favorable', 0.9],\n",
    "        ['B', 'unfavorable', 0.4],\n",
    "        ['B', 'favorable', 0.6],\n",
    "        ['C', 'unfavorable', 0.99],\n",
    "        ['C', 'favorable', 0.01],\n",
    "    ], [grade])"
   ]
  },
  {
   "cell_type": "markdown",
   "metadata": {},
   "source": [
    "Create state objects (network nodes)"
   ]
  },
  {
   "cell_type": "code",
   "execution_count": 4,
   "metadata": {
    "collapsed": false
   },
   "outputs": [],
   "source": [
    "difficulty_state = State(difficulty, name='difficulty')\n",
    "intelligence_state = State(intelligence, name='intelligence')\n",
    "grade_state = State(grade, name='grade')\n",
    "sat_state = State(sat, name='sat')\n",
    "letter_state = State(letter, name='letter')"
   ]
  },
  {
   "cell_type": "markdown",
   "metadata": {},
   "source": [
    "Construct the actual network by adding the nodes then creating the directed edges between them"
   ]
  },
  {
   "cell_type": "code",
   "execution_count": 5,
   "metadata": {
    "collapsed": true
   },
   "outputs": [],
   "source": [
    "student = BayesianNetwork(\"Student Network\")\n",
    "student.add_states([difficulty_state, intelligence_state, grade_state, sat_state, letter_state])\n",
    "student.add_transition(difficulty_state, grade_state)\n",
    "student.add_transition(intelligence_state, grade_state)\n",
    "student.add_transition(intelligence_state, sat_state)\n",
    "student.add_transition(grade_state, letter_state)\n",
    "student.bake()"
   ]
  },
  {
   "cell_type": "markdown",
   "metadata": {},
   "source": [
    "A child node is influenced by observing its parent"
   ]
  },
  {
   "cell_type": "code",
   "execution_count": 6,
   "metadata": {
    "collapsed": false
   },
   "outputs": [
    {
     "name": "stdout",
     "output_type": "stream",
     "text": [
      "sat            \t{'bad': '0.05', 'good': '0.95'}\n",
      "sat            \t{'bad': '0.8', 'good': '0.2'}\n"
     ]
    }
   ],
   "source": [
    "update(student, {'intelligence': 'high'}, 'sat')\n",
    "update(student, {'intelligence': 'low'}, 'sat')"
   ]
  },
  {
   "cell_type": "markdown",
   "metadata": {},
   "source": [
    "Likewise, a parent node is influenced by observing its child"
   ]
  },
  {
   "cell_type": "code",
   "execution_count": 7,
   "metadata": {
    "collapsed": false
   },
   "outputs": [
    {
     "name": "stdout",
     "output_type": "stream",
     "text": [
      "intelligence   \t{'high': '0.92', 'low': '0.083'}\n",
      "intelligence   \t{'high': '0.13', 'low': '0.87'}\n"
     ]
    }
   ],
   "source": [
    "update(student, {'sat': 'good'}, 'intelligence')\n",
    "update(student, {'sat': 'bad'}, 'intelligence')"
   ]
  },
  {
   "cell_type": "markdown",
   "metadata": {},
   "source": [
    "A grandchild can also be influenced by a grandparent and vice-versa"
   ]
  },
  {
   "cell_type": "code",
   "execution_count": 8,
   "metadata": {
    "collapsed": false
   },
   "outputs": [
    {
     "name": "stdout",
     "output_type": "stream",
     "text": [
      "letter         \t{'unfavorable': '0.58', 'favorable': '0.42'}\n",
      "letter         \t{'unfavorable': '0.21', 'favorable': '0.79'}\n"
     ]
    }
   ],
   "source": [
    "update(student, {'difficulty': 'hard'}, 'letter')\n",
    "update(student, {'difficulty': 'easy'}, 'letter')"
   ]
  },
  {
   "cell_type": "code",
   "execution_count": 9,
   "metadata": {
    "collapsed": false
   },
   "outputs": [
    {
     "name": "stdout",
     "output_type": "stream",
     "text": [
      "difficulty     \t{'easy': '0.19', 'hard': '0.81'}\n",
      "difficulty     \t{'easy': '0.56', 'hard': '0.44'}\n"
     ]
    }
   ],
   "source": [
    "update(student, {'letter': 'unfavorable'}, 'difficulty')\n",
    "update(student, {'letter': 'favorable'}, 'difficulty')"
   ]
  },
  {
   "cell_type": "markdown",
   "metadata": {},
   "source": [
    "Siblings and cousins can also influence each other via a shared ancestor"
   ]
  },
  {
   "cell_type": "code",
   "execution_count": 10,
   "metadata": {
    "collapsed": false
   },
   "outputs": [
    {
     "name": "stdout",
     "output_type": "stream",
     "text": [
      "sat            \t{'bad': '0.38', 'good': '0.62'}\n",
      "sat            \t{'bad': '0.2', 'good': '0.8'}\n"
     ]
    }
   ],
   "source": [
    "update(student, {'letter': 'unfavorable'}, 'sat')\n",
    "update(student, {'letter': 'favorable'}, 'sat')"
   ]
  },
  {
   "cell_type": "code",
   "execution_count": 11,
   "metadata": {
    "collapsed": false
   },
   "outputs": [
    {
     "name": "stdout",
     "output_type": "stream",
     "text": [
      "letter         \t{'unfavorable': '0.37', 'favorable': '0.63'}\n",
      "letter         \t{'unfavorable': '0.59', 'favorable': '0.41'}\n"
     ]
    }
   ],
   "source": [
    "update(student, {'sat': 'good'}, 'letter')\n",
    "update(student, {'sat': 'bad'}, 'letter')"
   ]
  },
  {
   "cell_type": "markdown",
   "metadata": {},
   "source": [
    "Independent parents with a shared child do not normally influence each other due to the v-structure"
   ]
  },
  {
   "cell_type": "code",
   "execution_count": 12,
   "metadata": {
    "collapsed": false
   },
   "outputs": [
    {
     "name": "stdout",
     "output_type": "stream",
     "text": [
      "intelligence   \t{'high': '0.7', 'low': '0.3'}\n",
      "intelligence   \t{'high': '0.7', 'low': '0.3'}\n"
     ]
    }
   ],
   "source": [
    "update(student, {'difficulty': 'hard'}, 'intelligence')\n",
    "update(student, {'difficulty': 'easy'}, 'intelligence')"
   ]
  },
  {
   "cell_type": "markdown",
   "metadata": {},
   "source": [
    "This can be overcome, however, by observing the shared child"
   ]
  },
  {
   "cell_type": "code",
   "execution_count": 13,
   "metadata": {
    "collapsed": false
   },
   "outputs": [
    {
     "name": "stdout",
     "output_type": "stream",
     "text": [
      "intelligence   \t{'high': '0.93', 'low': '0.067'}\n",
      "intelligence   \t{'high': '0.81', 'low': '0.19'}\n"
     ]
    }
   ],
   "source": [
    "update(student, {'difficulty': 'hard', 'grade': 'A'}, 'intelligence')\n",
    "update(student, {'difficulty': 'easy', 'grade': 'A'}, 'intelligence')"
   ]
  },
  {
   "cell_type": "code",
   "execution_count": null,
   "metadata": {
    "collapsed": true
   },
   "outputs": [],
   "source": []
  }
 ],
 "metadata": {
  "kernelspec": {
   "display_name": "Python [sandbox]",
   "language": "python",
   "name": "Python [sandbox]"
  },
  "language_info": {
   "codemirror_mode": {
    "name": "ipython",
    "version": 3
   },
   "file_extension": ".py",
   "mimetype": "text/x-python",
   "name": "python",
   "nbconvert_exporter": "python",
   "pygments_lexer": "ipython3",
   "version": "3.5.2"
  }
 },
 "nbformat": 4,
 "nbformat_minor": 0
}
