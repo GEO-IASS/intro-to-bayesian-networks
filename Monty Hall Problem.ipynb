{
 "cells": [
  {
   "cell_type": "markdown",
   "metadata": {},
   "source": [
    "The Monty Hall Problem analyzed using a Bayesian Network\n",
    "---\n",
    "adapted from https://github.com/jmschrei/pomegranate"
   ]
  },
  {
   "cell_type": "code",
   "execution_count": 1,
   "metadata": {
    "collapsed": true
   },
   "outputs": [],
   "source": [
    "from pomegranate import BayesianNetwork, DiscreteDistribution, ConditionalProbabilityTable, State"
   ]
  },
  {
   "cell_type": "code",
   "execution_count": 8,
   "metadata": {
    "collapsed": true
   },
   "outputs": [],
   "source": [
    "# helper function to pretty print observation results\n",
    "def update(network, observations, variables=None):\n",
    "    beliefs = network.forward_backward(observations)\n",
    "    for state, dist in zip(network.states, beliefs):\n",
    "        if variables is None or state.name in variables:\n",
    "            fixed = {}\n",
    "            for k, v in dist.parameters[0].items():\n",
    "                fixed[k] = \"{:.2}\".format(v)\n",
    "            print(\"{:<15}\\t{}\".format(state.name, fixed))"
   ]
  },
  {
   "cell_type": "markdown",
   "metadata": {},
   "source": [
    "Setup the discrete probability distributions based on the Monty Hall Problem model"
   ]
  },
  {
   "cell_type": "code",
   "execution_count": 3,
   "metadata": {
    "collapsed": false
   },
   "outputs": [],
   "source": [
    "prize = DiscreteDistribution({'1': 1/3, '2': 1/3, '3': 1/3})\n",
    "contestant = DiscreteDistribution({'1': 1/3, '2': 1/3, '3': 1/3})\n",
    "host = ConditionalProbabilityTable([\n",
    "        ['1', '1', '1', 0.0], ['2', '1', '1', 0.0], ['3', '1', '1', 0.0],\n",
    "        ['1', '1', '2', 0.5], ['2', '1', '2', 0.0], ['3', '1', '2', 1.0],\n",
    "        ['1', '1', '3', 0.5], ['2', '1', '3', 1.0], ['3', '1', '3', 0.0],\n",
    "        ['1', '2', '1', 0.0], ['2', '2', '1', 0.5], ['3', '2', '1', 1.0],\n",
    "        ['1', '2', '2', 0.0], ['2', '2', '2', 0.0], ['3', '2', '2', 0.0],\n",
    "        ['1', '2', '3', 1.0], ['2', '2', '3', 0.5], ['3', '2', '3', 0.0],\n",
    "        ['1', '3', '1', 0.0], ['2', '3', '1', 1.0], ['3', '3', '1', 0.5],\n",
    "        ['1', '3', '2', 1.0], ['2', '3', '2', 0.0], ['3', '3', '2', 0.5],\n",
    "        ['1', '3', '3', 0.0], ['2', '3', '3', 0.0], ['3', '3', '3', 0.0]\n",
    "    ], [contestant, prize]) "
   ]
  },
  {
   "cell_type": "markdown",
   "metadata": {},
   "source": [
    "Create state objects (network nodes)"
   ]
  },
  {
   "cell_type": "code",
   "execution_count": 4,
   "metadata": {
    "collapsed": true
   },
   "outputs": [],
   "source": [
    "prize_state = State(prize, name='prize')\n",
    "contestant_state = State(contestant, name='contestant')\n",
    "host_state = State(host, name='host')"
   ]
  },
  {
   "cell_type": "markdown",
   "metadata": {},
   "source": [
    "Construct the actual network by adding the nodes then creating the directed edges between them"
   ]
  },
  {
   "cell_type": "code",
   "execution_count": 5,
   "metadata": {
    "collapsed": true
   },
   "outputs": [],
   "source": [
    "monty = BayesianNetwork(\"Monty Hall Problem\")\n",
    "monty.add_states([prize_state, contestant_state, host_state])\n",
    "monty.add_transition(prize_state, host_state)\n",
    "monty.add_transition(contestant_state, host_state)\n",
    "monty.bake()"
   ]
  },
  {
   "cell_type": "markdown",
   "metadata": {},
   "source": [
    "The contestant chooses door number 1. The contestant's CPT is now frozen and the host's has updated to reflect this information. As the contestant and prize distributions are independent, this has no effect on the prize's CPT."
   ]
  },
  {
   "cell_type": "code",
   "execution_count": 9,
   "metadata": {
    "collapsed": false
   },
   "outputs": [
    {
     "name": "stdout",
     "output_type": "stream",
     "text": [
      "prize          \t{'1': '0.33', '2': '0.33', '3': '0.33'}\n",
      "contestant     \t{'1': '1.0', '2': '0.0', '3': '0.0'}\n",
      "host           \t{'1': '0.0', '2': '0.5', '3': '0.5'}\n"
     ]
    }
   ],
   "source": [
    "update(monty, {\"contestant\": \"1\"})"
   ]
  },
  {
   "cell_type": "markdown",
   "metadata": {},
   "source": [
    "The host then reveals door number 2. The host's CPT is now frozen as well, though this time the prize's CPT has changed to reflect the influence of both the host's decision **AND** the contestant's, as observing the host allowed the contestant's choice to flow to the prize's CPT.\n",
    "\n",
    "In this case, the contestant should always switch."
   ]
  },
  {
   "cell_type": "code",
   "execution_count": 10,
   "metadata": {
    "collapsed": false
   },
   "outputs": [
    {
     "name": "stdout",
     "output_type": "stream",
     "text": [
      "prize          \t{'1': '0.33', '2': '0.0', '3': '0.67'}\n",
      "contestant     \t{'1': '1.0', '2': '0.0', '3': '0.0'}\n",
      "host           \t{'1': '0.0', '2': '1.0', '3': '0.0'}\n"
     ]
    }
   ],
   "source": [
    "update(monty, {\"contestant\": \"1\", \"host\": \"2\"})"
   ]
  },
  {
   "cell_type": "markdown",
   "metadata": {},
   "source": [
    "If we were to tune in late and **ONLY** see the host's choice but not which door the contestant had chosen, we are left with a different belief as to what the contestant should do, namely that it doesn't matter if they switch or stay."
   ]
  },
  {
   "cell_type": "code",
   "execution_count": 11,
   "metadata": {
    "collapsed": false
   },
   "outputs": [
    {
     "name": "stdout",
     "output_type": "stream",
     "text": [
      "prize          \t{'1': '0.5', '2': '0.0', '3': '0.5'}\n",
      "contestant     \t{'1': '0.5', '2': '0.0', '3': '0.5'}\n",
      "host           \t{'1': '0.0', '2': '1.0', '3': '0.0'}\n"
     ]
    }
   ],
   "source": [
    "update(monty, {\"host\": \"2\"})"
   ]
  },
  {
   "cell_type": "code",
   "execution_count": null,
   "metadata": {
    "collapsed": true
   },
   "outputs": [],
   "source": []
  }
 ],
 "metadata": {
  "kernelspec": {
   "display_name": "Python [sandbox]",
   "language": "python",
   "name": "Python [sandbox]"
  },
  "language_info": {
   "codemirror_mode": {
    "name": "ipython",
    "version": 3
   },
   "file_extension": ".py",
   "mimetype": "text/x-python",
   "name": "python",
   "nbconvert_exporter": "python",
   "pygments_lexer": "ipython3",
   "version": "3.5.2"
  }
 },
 "nbformat": 4,
 "nbformat_minor": 0
}
